{
 "cells": [
  {
   "cell_type": "markdown",
   "metadata": {},
   "source": [
    "# Definition of Time Series\n",
    "\n",
    "A time series is a series of data points indexed (or listed/graphed) in time order."
   ]
  },
  {
   "cell_type": "markdown",
   "metadata": {},
   "source": [
    "## Stationarity\n",
    "\n",
    "For a series to be considered as **stationary**, 3 conditions must be met:\n",
    "\n",
    " 1. The mean of the series should not be a function of time,<br>\n",
    " ![mean](http://www.seanabu.com/img/Mean_nonstationary.png)\n",
    " 2. The variance of the series should not be a function of time (series must be [homoscedastic](https://en.wikipedia.org/wiki/Homoscedasticity)),\n",
    " ![variance](http://www.seanabu.com/img/Var_nonstationary.png)\n",
    " 3. The covariance of the terms should not be a function of time.\n",
    " ![covariance](http://www.seanabu.com/img/Cov_nonstationary.png)\n",
    " \n",
    "Stationarity conditions are the main assumptions of most time series analysis models. However, most real-world data is time dependent and hence needs certain conversions and processing before being fed into TSA algorithms.\n",
    "\n",
    "There are several ways to identify whether the series is stationary. Some of these are:\n",
    "- Visualizing the data (to identify strict stationarity)\n",
    "- Applying [Augmented Dickey-Fuller Test](https://en.wikipedia.org/wiki/Augmented_Dickey%E2%80%93Fuller_test)(ADF)\n",
    "\n",
    "Below is a template code to visualize TS and test for stationarity:\n"
   ]
  },
  {
   "cell_type": "code",
   "execution_count": 18,
   "metadata": {},
   "outputs": [],
   "source": [
    "from statsmodels.tsa.stattools import adfuller\n",
    "def test_stationarity(ts):\n",
    "\n",
    "    #Determine rolling statistics\n",
    "    rolmean = pd.rolling_mean(ts, window=5)\n",
    "    rolstd = pd.rolling_std(ts, window=5)\n",
    "\n",
    "    #Plot rolling statistics:\n",
    "    fig = plt.figure(figsize=(12, 8))\n",
    "    orig = plt.plot(timeseries, color='blue',label='Original')\n",
    "    mean = plt.plot(rolmean, color='red', label='Rolling Mean')\n",
    "    std = plt.plot(rolstd, color='black', label = 'Rolling Std')\n",
    "    plt.legend(loc='best')\n",
    "    plt.title('Rolling Mean & Standard Deviation')\n",
    "    plt.show()\n",
    "    \n",
    "    #Perform Dickey-Fuller test:\n",
    "    print('Results of Dickey-Fuller Test:')\n",
    "    dftest = adfuller(timeseries, autolag='AIC')\n",
    "    dfoutput = pd.Series(dftest[0:4], index=['Test Statistic','p-value','#Lags Used','Number of Observations Used'])\n",
    "    for key,value in dftest[4].items():\n",
    "        dfoutput['Critical Value (%s)'%key] = value\n",
    "    print(dfoutput) "
   ]
  },
  {
   "cell_type": "markdown",
   "metadata": {},
   "source": [
    "Let's apply this test to a sample dataset, [\"Atmospheric CO2 from Continuous Air Samples at Mauna Loa Observatory, Hawaii, U.S.A.,\"][1] which collected CO2 samples from March 1958 to December 2001.\n",
    "\n",
    "[1]: http://cdiac.ess-dive.lbl.gov/trends/co2/sio-keel-flask/sio-keel-flaskmlo_c.html"
   ]
  }
 ],
 "metadata": {
  "kernelspec": {
   "display_name": "Python 3",
   "language": "python",
   "name": "python3"
  },
  "language_info": {
   "codemirror_mode": {
    "name": "ipython",
    "version": 3
   },
   "file_extension": ".py",
   "mimetype": "text/x-python",
   "name": "python",
   "nbconvert_exporter": "python",
   "pygments_lexer": "ipython3",
   "version": "3.6.4"
  }
 },
 "nbformat": 4,
 "nbformat_minor": 2
}
